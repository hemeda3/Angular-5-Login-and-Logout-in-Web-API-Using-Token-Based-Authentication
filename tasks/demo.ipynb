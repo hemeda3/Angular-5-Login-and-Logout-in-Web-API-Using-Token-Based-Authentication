{
  "cells": [
    {
      "cell_type": "markdown",
      "metadata": {
        "id": "acH81JpTHvlb"
      },
      "source": [
        "## Docs"
      ]
    },
    {
      "cell_type": "code",
      "execution_count": 2,
      "metadata": {
        "colab": {
          "base_uri": "https://localhost:8080/"
        },
        "id": "nD_YodgQHvlb",
        "outputId": "14e8f19f-2395-414a-86c0-5b33f51622ee"
      },
      "outputs": [
        {
          "output_type": "stream",
          "name": "stdout",
          "text": [
            "Requirement already satisfied: tkseem in /usr/local/lib/python3.11/dist-packages (0.0.3)\n",
            "Requirement already satisfied: sentencepiece in /usr/local/lib/python3.11/dist-packages (from tkseem) (0.2.0)\n",
            "Requirement already satisfied: farasapy in /usr/local/lib/python3.11/dist-packages (from tkseem) (0.0.14)\n",
            "Requirement already satisfied: tqdm in /usr/local/lib/python3.11/dist-packages (from tkseem) (4.67.1)\n",
            "Requirement already satisfied: numpy in /usr/local/lib/python3.11/dist-packages (from tkseem) (2.0.2)\n",
            "Requirement already satisfied: black in /usr/local/lib/python3.11/dist-packages (from tkseem) (25.1.0)\n",
            "Requirement already satisfied: click>=8.0.0 in /usr/local/lib/python3.11/dist-packages (from black->tkseem) (8.2.0)\n",
            "Requirement already satisfied: mypy-extensions>=0.4.3 in /usr/local/lib/python3.11/dist-packages (from black->tkseem) (1.1.0)\n",
            "Requirement already satisfied: packaging>=22.0 in /usr/local/lib/python3.11/dist-packages (from black->tkseem) (24.2)\n",
            "Requirement already satisfied: pathspec>=0.9.0 in /usr/local/lib/python3.11/dist-packages (from black->tkseem) (0.12.1)\n",
            "Requirement already satisfied: platformdirs>=2 in /usr/local/lib/python3.11/dist-packages (from black->tkseem) (4.3.8)\n",
            "Requirement already satisfied: requests in /usr/local/lib/python3.11/dist-packages (from farasapy->tkseem) (2.32.3)\n",
            "Requirement already satisfied: charset-normalizer<4,>=2 in /usr/local/lib/python3.11/dist-packages (from requests->farasapy->tkseem) (3.4.2)\n",
            "Requirement already satisfied: idna<4,>=2.5 in /usr/local/lib/python3.11/dist-packages (from requests->farasapy->tkseem) (3.10)\n",
            "Requirement already satisfied: urllib3<3,>=1.21.1 in /usr/local/lib/python3.11/dist-packages (from requests->farasapy->tkseem) (2.4.0)\n",
            "Requirement already satisfied: certifi>=2017.4.17 in /usr/local/lib/python3.11/dist-packages (from requests->farasapy->tkseem) (2025.4.26)\n"
          ]
        }
      ],
      "source": [
        "!pip3 install tkseem"
      ]
    },
    {
      "cell_type": "markdown",
      "metadata": {
        "id": "OVTeQeX_Hvlb"
      },
      "source": [
        "### Frequency Tokenizer"
      ]
    },
    {
      "cell_type": "code",
      "execution_count": 3,
      "metadata": {
        "id": "XIH7_bDlHvlb"
      },
      "outputs": [],
      "source": [
        "import tkseem as tk"
      ]
    },
    {
      "cell_type": "markdown",
      "metadata": {
        "id": "V8PKYJ_VHvlc"
      },
      "source": [
        "Read, preprocess then train"
      ]
    },
    {
      "cell_type": "code",
      "execution_count": 5,
      "metadata": {
        "colab": {
          "base_uri": "https://localhost:8080/"
        },
        "id": "W2GVReYaHvlc",
        "outputId": "49d145af-b02b-4aac-c219-1d47bcbdc53c"
      },
      "outputs": [
        {
          "output_type": "stream",
          "name": "stdout",
          "text": [
            "Training WordTokenizer ...\n"
          ]
        }
      ],
      "source": [
        "tokenizer = tk.WordTokenizer()\n",
        "tokenizer.train('samples/data.txt')"
      ]
    },
    {
      "cell_type": "code",
      "execution_count": 6,
      "metadata": {
        "colab": {
          "base_uri": "https://localhost:8080/"
        },
        "id": "MoZMxhERHvlc",
        "outputId": "5262687b-aa30-4017-ecb5-f62d762a5966"
      },
      "outputs": [
        {
          "output_type": "stream",
          "name": "stdout",
          "text": [
            "WordTokenizer\n"
          ]
        }
      ],
      "source": [
        "print(tokenizer)"
      ]
    },
    {
      "cell_type": "markdown",
      "metadata": {
        "id": "Zs6MyrTCHvlc"
      },
      "source": [
        "Tokenize"
      ]
    },
    {
      "cell_type": "code",
      "execution_count": 7,
      "metadata": {
        "colab": {
          "base_uri": "https://localhost:8080/"
        },
        "id": "pUUO8vf2Hvlc",
        "outputId": "7169fb6a-ed28-4be8-aeb3-5af4d945545f"
      },
      "outputs": [
        {
          "output_type": "execute_result",
          "data": {
            "text/plain": [
              "['السلام', 'عليكم']"
            ]
          },
          "metadata": {},
          "execution_count": 7
        }
      ],
      "source": [
        "tokenizer.tokenize(\"السلام عليكم\")"
      ]
    },
    {
      "cell_type": "markdown",
      "metadata": {
        "id": "bV4vhUbLHvlc"
      },
      "source": [
        "Encode as ids"
      ]
    },
    {
      "cell_type": "code",
      "execution_count": 8,
      "metadata": {
        "colab": {
          "base_uri": "https://localhost:8080/"
        },
        "id": "MouTJo2-Hvlc",
        "outputId": "73de20ee-6560-4a3d-fa56-73c711695a50"
      },
      "outputs": [
        {
          "output_type": "stream",
          "name": "stdout",
          "text": [
            "[6646, 6647]\n"
          ]
        }
      ],
      "source": [
        "encoded = tokenizer.encode(\"السلام عليكم\")\n",
        "print(encoded)"
      ]
    },
    {
      "cell_type": "markdown",
      "metadata": {
        "id": "ZcyI7IQFHvld"
      },
      "source": [
        "Decode back to tokens"
      ]
    },
    {
      "cell_type": "code",
      "execution_count": 9,
      "metadata": {
        "colab": {
          "base_uri": "https://localhost:8080/"
        },
        "id": "QYuiB45FHvld",
        "outputId": "11ab75e1-0f8e-46a3-e4e4-b9216ac72ece"
      },
      "outputs": [
        {
          "output_type": "stream",
          "name": "stdout",
          "text": [
            "['السلام', 'عليكم']\n"
          ]
        }
      ],
      "source": [
        "decoded = tokenizer.decode(encoded)\n",
        "print(decoded)"
      ]
    },
    {
      "cell_type": "code",
      "execution_count": 10,
      "metadata": {
        "colab": {
          "base_uri": "https://localhost:8080/"
        },
        "id": "xZBMFhkvHvld",
        "outputId": "39b5fd4a-d9be-4aca-9fa7-bb3ea6e55f87"
      },
      "outputs": [
        {
          "output_type": "stream",
          "name": "stdout",
          "text": [
            "السلام عليكم\n"
          ]
        }
      ],
      "source": [
        "detokenized = tokenizer.detokenize(decoded)\n",
        "print(detokenized)"
      ]
    },
    {
      "cell_type": "markdown",
      "metadata": {
        "id": "Ddy6Zf9PHvld"
      },
      "source": [
        "### SentencePiece Tokenizer"
      ]
    },
    {
      "cell_type": "markdown",
      "metadata": {
        "id": "EyA2vGTsHvld"
      },
      "source": [
        "Read, preprocess then train"
      ]
    },
    {
      "cell_type": "code",
      "execution_count": null,
      "metadata": {
        "id": "Tspugvi1Hvld"
      },
      "outputs": [],
      "source": [
        "import tkseem as tk\n",
        "tokenizer = tk.SentencePieceTokenizer()\n",
        "tokenizer.train('samples/data.txt')"
      ]
    },
    {
      "cell_type": "markdown",
      "metadata": {
        "id": "sjS9BLcmHvld"
      },
      "source": [
        "Tokenize"
      ]
    },
    {
      "cell_type": "code",
      "execution_count": null,
      "metadata": {
        "id": "3v-YohtnHvld",
        "outputId": "52c3ead6-7a74-4831-9b1d-8a45ec389556"
      },
      "outputs": [
        {
          "data": {
            "text/plain": [
              "['▁صباح', '▁الخير', '▁يا', '▁أص', 'د', 'قاء']"
            ]
          },
          "execution_count": 10,
          "metadata": {},
          "output_type": "execute_result"
        }
      ],
      "source": [
        "tokenizer.tokenize(\"صباح الخير يا أصدقاء\")"
      ]
    },
    {
      "cell_type": "markdown",
      "metadata": {
        "id": "F4xcbNCHHvld"
      },
      "source": [
        "Encode as ids"
      ]
    },
    {
      "cell_type": "code",
      "execution_count": null,
      "metadata": {
        "id": "GpyzDKtbHvld",
        "outputId": "18b96ffd-7695-433a-be48-df3931a1cd1f"
      },
      "outputs": [
        {
          "name": "stdout",
          "output_type": "stream",
          "text": [
            "[1799, 2741]\n"
          ]
        }
      ],
      "source": [
        "encoded = tokenizer.encode(\"السلام عليكم\")\n",
        "print(encoded)"
      ]
    },
    {
      "cell_type": "markdown",
      "metadata": {
        "id": "oVW-aKjiHvld"
      },
      "source": [
        "Decode back to tokens"
      ]
    },
    {
      "cell_type": "code",
      "execution_count": null,
      "metadata": {
        "id": "laBHq7j0Hvld",
        "outputId": "e0300137-04eb-4017-c6c1-c35faec8c39e"
      },
      "outputs": [
        {
          "name": "stdout",
          "output_type": "stream",
          "text": [
            "['▁السلام', '▁عليكم']\n"
          ]
        }
      ],
      "source": [
        "decoded = tokenizer.decode(encoded)\n",
        "print(decoded)"
      ]
    },
    {
      "cell_type": "code",
      "execution_count": null,
      "metadata": {
        "id": "nmjMnFZHHvld",
        "outputId": "263053dc-c8b7-4d6c-c753-8d090e74ecac"
      },
      "outputs": [
        {
          "name": "stdout",
          "output_type": "stream",
          "text": [
            " السلام عليكم\n"
          ]
        }
      ],
      "source": [
        "detokenized = tokenizer.detokenize(decoded)\n",
        "print(detokenized)"
      ]
    },
    {
      "cell_type": "markdown",
      "metadata": {
        "id": "3Q2eIiFkHvld"
      },
      "source": [
        "### Morphological Tokenizer"
      ]
    },
    {
      "cell_type": "markdown",
      "metadata": {
        "id": "NWLnJn7mHvld"
      },
      "source": [
        "Read, preprocess then train"
      ]
    },
    {
      "cell_type": "code",
      "execution_count": null,
      "metadata": {
        "id": "9Xij0X14Hvld",
        "outputId": "2b5f5c5a-afd4-4060-8b4a-10e4906422d0"
      },
      "outputs": [
        {
          "name": "stdout",
          "output_type": "stream",
          "text": [
            "Training MorphologicalTokenizer ...\n"
          ]
        }
      ],
      "source": [
        "tokenizer = tk.MorphologicalTokenizer()\n",
        "tokenizer.train()"
      ]
    },
    {
      "cell_type": "markdown",
      "metadata": {
        "id": "QkrCAJXwHvld"
      },
      "source": [
        "Tokenize"
      ]
    },
    {
      "cell_type": "code",
      "execution_count": null,
      "metadata": {
        "id": "vd_LeuMXHvld",
        "outputId": "d8113cdf-0941-4a46-bb9b-d9b2d323f874"
      },
      "outputs": [
        {
          "data": {
            "text/plain": [
              "['ال', '##سلام', 'علي', '##كم']"
            ]
          },
          "execution_count": 15,
          "metadata": {},
          "output_type": "execute_result"
        }
      ],
      "source": [
        "tokenizer.tokenize(\"السلام عليكم\")"
      ]
    },
    {
      "cell_type": "markdown",
      "metadata": {
        "id": "O5XsWjL7Hvld"
      },
      "source": [
        "Encode as ids"
      ]
    },
    {
      "cell_type": "code",
      "execution_count": null,
      "metadata": {
        "id": "o_pst0LpHvld",
        "outputId": "b0023bcb-310c-4683-e234-0b1c08f615dd"
      },
      "outputs": [
        {
          "name": "stdout",
          "output_type": "stream",
          "text": [
            "[2, 367, 764, 184]\n"
          ]
        }
      ],
      "source": [
        "encoded = tokenizer.encode(\"السلام عليكم\")\n",
        "print(encoded)"
      ]
    },
    {
      "cell_type": "markdown",
      "metadata": {
        "id": "CVht1HAAHvld"
      },
      "source": [
        "Decode back to tokens"
      ]
    },
    {
      "cell_type": "code",
      "execution_count": null,
      "metadata": {
        "id": "zbw13O0MHvle",
        "outputId": "5672f9ae-5a96-44dd-9b17-f0d99e2ee154"
      },
      "outputs": [
        {
          "name": "stdout",
          "output_type": "stream",
          "text": [
            "['ال', '##سلام', 'علي', '##كم']\n"
          ]
        }
      ],
      "source": [
        "decoded = tokenizer.decode(encoded)\n",
        "print(decoded)"
      ]
    },
    {
      "cell_type": "markdown",
      "metadata": {
        "id": "Kys0JjcqHvle"
      },
      "source": [
        "### Random Tokenizer"
      ]
    },
    {
      "cell_type": "code",
      "execution_count": null,
      "metadata": {
        "id": "gOuq9B2eHvle",
        "outputId": "838ab2df-9fd4-43c0-a260-5fd87423bb1e"
      },
      "outputs": [
        {
          "name": "stdout",
          "output_type": "stream",
          "text": [
            "Training RandomTokenizer ...\n"
          ]
        }
      ],
      "source": [
        "tokenizer = tk.B\n",
        "tokenizer.train('samples/data.txt')"
      ]
    },
    {
      "cell_type": "code",
      "execution_count": null,
      "metadata": {
        "id": "eEsDXXYvHvle",
        "outputId": "8f7ac376-1923-4e1a-90f1-5f3a1c68b15e"
      },
      "outputs": [
        {
          "data": {
            "text/plain": [
              "['السل', '##ام', 'علي', '##كم', 'أي', '##ها', 'الأص', '##دقا', '##ء']"
            ]
          },
          "execution_count": 19,
          "metadata": {},
          "output_type": "execute_result"
        }
      ],
      "source": [
        "tokenizer.tokenize(\"السلام عليكم أيها الأصدقاء\")"
      ]
    },
    {
      "cell_type": "markdown",
      "metadata": {
        "id": "8RAU6AHbHvle"
      },
      "source": [
        "### Disjoint Letter Tokenizer"
      ]
    },
    {
      "cell_type": "code",
      "execution_count": null,
      "metadata": {
        "id": "IfnxE9dZHvle",
        "outputId": "57d5b948-dd7e-4f0f-b198-b455f1de967d"
      },
      "outputs": [
        {
          "name": "stdout",
          "output_type": "stream",
          "text": [
            "Training DisjointLetterTokenizer ...\n"
          ]
        }
      ],
      "source": [
        "tokenizer = tk.DisjointLetterTokenizer()\n",
        "tokenizer.train('samples/data.txt')"
      ]
    },
    {
      "cell_type": "code",
      "execution_count": null,
      "metadata": {
        "id": "UQsbIjFDHvle",
        "outputId": "a0477151-85c7-4e40-f37a-c710b98cef08"
      },
      "outputs": [
        {
          "name": "stdout",
          "output_type": "stream",
          "text": [
            "['ا', '##لسلا', '##م', 'عليكم', 'أ', '##يها', 'ا', '##لأ', '##صد', '##قا', '##ء']\n"
          ]
        }
      ],
      "source": [
        "print(tokenizer.tokenize(\"السلام عليكم أيها الأصدقاء\"))"
      ]
    },
    {
      "cell_type": "markdown",
      "metadata": {
        "id": "Kl9cuV4kHvlh"
      },
      "source": [
        "### Character Tokenizer"
      ]
    },
    {
      "cell_type": "code",
      "execution_count": null,
      "metadata": {
        "id": "I0K1zVOFHvlh",
        "outputId": "4727ed49-e77a-4a96-a022-fd3eed7b584d"
      },
      "outputs": [
        {
          "name": "stdout",
          "output_type": "stream",
          "text": [
            "Training CharacterTokenizer ...\n"
          ]
        }
      ],
      "source": [
        "tokenizer = tk.CharacterTokenizer()\n",
        "tokenizer.train('samples/data.txt')"
      ]
    },
    {
      "cell_type": "code",
      "execution_count": null,
      "metadata": {
        "id": "pzQhlR6qHvlh",
        "outputId": "9a921db4-4e3a-43cb-efa3-236e200299ea"
      },
      "outputs": [
        {
          "data": {
            "text/plain": [
              "['ا', '##ل', '##س', '##ل', '##ا', '##م', 'ع', '##ل', '##ي', '##ك', '##م']"
            ]
          },
          "execution_count": 23,
          "metadata": {},
          "output_type": "execute_result"
        }
      ],
      "source": [
        "tokenizer.tokenize(\"السلام عليكم\")"
      ]
    },
    {
      "cell_type": "markdown",
      "metadata": {
        "id": "BQ3bvuQ8Hvlh"
      },
      "source": [
        "### BruteForce Tokenizer"
      ]
    },
    {
      "cell_type": "code",
      "execution_count": null,
      "metadata": {
        "id": "uQtkR1rnHvlh",
        "outputId": "26b5b319-6cd4-49ec-e0ad-cf3470bec0cd"
      },
      "outputs": [
        {
          "name": "stdout",
          "output_type": "stream",
          "text": [
            "Training RandomTokenizer ...\n"
          ]
        }
      ],
      "source": [
        "tokenizer = tk.BruteForceTokenizer()\n",
        "tokenizer.train('samples/data.txt')"
      ]
    },
    {
      "cell_type": "code",
      "execution_count": null,
      "metadata": {
        "id": "UTf1oqhbHvlh",
        "outputId": "c1471ec0-22d7-42ac-fa63-d5f4529a9cb5"
      },
      "outputs": [
        {
          "data": {
            "text/plain": [
              "['ال', '##سل', '##ام', 'عل', '##يك', '##م']"
            ]
          },
          "execution_count": 3,
          "metadata": {},
          "output_type": "execute_result"
        }
      ],
      "source": [
        "tokenizer.tokenize(\"السلام عليكم\")"
      ]
    },
    {
      "cell_type": "markdown",
      "metadata": {
        "id": "5nX1mtPnHvlh"
      },
      "source": [
        "### Compression Factor"
      ]
    },
    {
      "cell_type": "code",
      "execution_count": null,
      "metadata": {
        "id": "Y-MT16sEHvlh"
      },
      "outputs": [],
      "source": [
        "import tkseem as tk"
      ]
    },
    {
      "cell_type": "code",
      "execution_count": null,
      "metadata": {
        "id": "xhGQRRsXHvlh",
        "outputId": "dab5a78e-c75b-42aa-e606-5ec7bc6886bf"
      },
      "outputs": [
        {
          "name": "stdout",
          "output_type": "stream",
          "text": [
            "Training WordTokenizer ...\n"
          ]
        },
        {
          "data": {
            "text/plain": [
              "0.15384615384615385"
            ]
          },
          "execution_count": 2,
          "metadata": {},
          "output_type": "execute_result"
        }
      ],
      "source": [
        "tokenizer = tk.WordTokenizer()\n",
        "tokenizer.train('samples/data.txt')\n",
        "tokenizer.tokenize('السلام عليكم')\n",
        "tokenizer.calculate_compression_factor('السلام عليكم')"
      ]
    },
    {
      "cell_type": "code",
      "execution_count": null,
      "metadata": {
        "id": "ZqMRhoPzHvlh",
        "outputId": "7de17ffb-c679-42b7-bcac-4e8b04a33351"
      },
      "outputs": [
        {
          "name": "stdout",
          "output_type": "stream",
          "text": [
            "Training WordTokenizer ...\n",
            "Training SentencePiece ...\n",
            "Training RandomTokenizer ...\n",
            "Training DisjointLetterTokenizer ...\n",
            "Training CharacterTokenizer ...\n",
            "Training MorphologicalTokenizer ...\n"
          ]
        },
        {
          "data": {
            "image/png": "[encoded data removed]",
            "text/plain": [
              "<Figure size 432x288 with 1 Axes>"
            ]
          },
          "metadata": {
            "needs_background": "light"
          },
          "output_type": "display_data"
        }
      ],
      "source": [
        "import seaborn as sns\n",
        "import pandas as pd\n",
        "import time\n",
        "\n",
        "def calc_comp(fun):\n",
        "    tokenizer = fun()\n",
        "    # morph tokenizer doesn't take arguments\n",
        "    if str(tokenizer) == 'MorphologicalTokenizer':\n",
        "        tokenizer.train()\n",
        "    else:\n",
        "        tokenizer.train('samples/data.txt')\n",
        "    text = open('samples/data.txt', 'r').read()\n",
        "    return tokenizer.calculate_compression_factor(text)\n",
        "\n",
        "factors = {}\n",
        "\n",
        "factors['Word'] = calc_comp(tk.WordTokenizer)\n",
        "factors['SP'] = calc_comp(tk.SentencePieceTokenizer)\n",
        "factors['Random'] = calc_comp(tk.RandomTokenizer)\n",
        "factors['Disjoint'] = calc_comp(tk.DisjointLetterTokenizer)\n",
        "factors['Character'] = calc_comp(tk.CharacterTokenizer)\n",
        "factors['Morph'] = calc_comp(tk.MorphologicalTokenizer)\n",
        "plt = sns.barplot(data = pd.DataFrame.from_dict([factors]))"
      ]
    },
    {
      "cell_type": "markdown",
      "metadata": {
        "id": "xWxdu6QrHvlh"
      },
      "source": [
        "### Export Models"
      ]
    },
    {
      "cell_type": "markdown",
      "metadata": {
        "id": "oFLPHs8YHvlh"
      },
      "source": [
        "Models can be saved for deployment and reloading."
      ]
    },
    {
      "cell_type": "code",
      "execution_count": null,
      "metadata": {
        "id": "FaIy6qHwHvlh",
        "outputId": "e21a3033-8363-47b1-dd1f-61aec6f348b1"
      },
      "outputs": [
        {
          "name": "stdout",
          "output_type": "stream",
          "text": [
            "Training WordTokenizer ...\n",
            "Saving as pickle file ...\n"
          ]
        }
      ],
      "source": [
        "tokenizer = tk.WordTokenizer()\n",
        "tokenizer.train('samples/data.txt')\n",
        "tokenizer.save_model('freq.pl')"
      ]
    },
    {
      "cell_type": "markdown",
      "metadata": {
        "id": "5CCBoGRKHvlh"
      },
      "source": [
        "load model without pretraining"
      ]
    },
    {
      "cell_type": "code",
      "execution_count": null,
      "metadata": {
        "id": "-iqsanSlHvlh",
        "outputId": "c4907ff5-0c55-41c4-d1a1-ba027d26c1ac"
      },
      "outputs": [
        {
          "name": "stdout",
          "output_type": "stream",
          "text": [
            "Loading as pickle file ...\n"
          ]
        }
      ],
      "source": [
        "tokenizer = tk.WordTokenizer()\n",
        "tokenizer.load_model('freq.pl')"
      ]
    },
    {
      "cell_type": "code",
      "execution_count": null,
      "metadata": {
        "id": "mlccmWuyHvlh",
        "outputId": "0c588eaf-20df-4862-c2f0-f29221419cc3"
      },
      "outputs": [
        {
          "data": {
            "text/plain": [
              "['السلام', 'عليكم']"
            ]
          },
          "execution_count": 26,
          "metadata": {},
          "output_type": "execute_result"
        }
      ],
      "source": [
        "tokenizer.tokenize('السلام عليكم')"
      ]
    },
    {
      "cell_type": "markdown",
      "metadata": {
        "id": "96AbJ13zHvlh"
      },
      "source": [
        "### Benchmarking"
      ]
    },
    {
      "cell_type": "markdown",
      "metadata": {
        "id": "W0YbwXTRHvlh"
      },
      "source": [
        "Comparing tokenizers in terms of training time"
      ]
    },
    {
      "cell_type": "code",
      "execution_count": null,
      "metadata": {
        "scrolled": false,
        "id": "wDqcaHKUHvlh",
        "outputId": "1e067543-6895-4f22-afb3-236a1f94c386"
      },
      "outputs": [
        {
          "name": "stdout",
          "output_type": "stream",
          "text": [
            "Training WordTokenizer ...\n",
            "Training SentencePiece ...\n",
            "Training RandomTokenizer ...\n",
            "Training DisjointLetterTokenizer ...\n",
            "Training CharacterTokenizer ...\n",
            "Training MorphologicalTokenizer ...\n"
          ]
        },
        {
          "data": {
            "image/png": "[encoded data removed]",
            "text/plain": [
              "<Figure size 432x288 with 1 Axes>"
            ]
          },
          "metadata": {
            "needs_background": "light"
          },
          "output_type": "display_data"
        }
      ],
      "source": [
        "import seaborn as sns\n",
        "import pandas as pd\n",
        "import time\n",
        "\n",
        "def calc_time(fun):\n",
        "    tokenizer = fun()\n",
        "    start_time = time.time()\n",
        "    # morph tokenizer doesn't take arguments\n",
        "    if str(tokenizer) == 'MorphologicalTokenizer':\n",
        "        tokenizer.train()\n",
        "    else:\n",
        "        tokenizer.train('samples/data.txt')\n",
        "    return time.time() - start_time\n",
        "\n",
        "running_times = {}\n",
        "\n",
        "running_times['Word'] = calc_time(tk.WordTokenizer)\n",
        "running_times['SP'] = calc_time(tk.SentencePieceTokenizer)\n",
        "running_times['Random'] = calc_time(tk.RandomTokenizer)\n",
        "running_times['Disjoint'] = calc_time(tk.DisjointLetterTokenizer)\n",
        "running_times['Character'] = calc_time(tk.CharacterTokenizer)\n",
        "running_times['Morph'] = calc_time(tk.MorphologicalTokenizer)\n",
        "plt = sns.barplot(data = pd.DataFrame.from_dict([running_times]))"
      ]
    },
    {
      "cell_type": "markdown",
      "metadata": {
        "id": "8ZPvuXQVHvli"
      },
      "source": [
        "comparing tokenizers in tokenization time"
      ]
    },
    {
      "cell_type": "code",
      "execution_count": 1,
      "metadata": {
        "colab": {
          "base_uri": "https://localhost:8080/",
          "height": 216
        },
        "id": "feR7QBPDHvli",
        "outputId": "ac41346c-ce3c-4a5d-997e-18c42f59c86a"
      },
      "outputs": [
        {
          "output_type": "error",
          "ename": "NameError",
          "evalue": "name 'tk' is not defined",
          "traceback": [
            "\u001b[0;31m---------------------------------------------------------------------------\u001b[0m",
            "\u001b[0;31mNameError\u001b[0m                                 Traceback (most recent call last)",
            "\u001b[0;32m<ipython-input-1-75e373d481a6>\u001b[0m in \u001b[0;36m<cell line: 0>\u001b[0;34m()\u001b[0m\n\u001b[1;32m     16\u001b[0m \u001b[0mrunning_times\u001b[0m \u001b[0;34m=\u001b[0m \u001b[0;34m{\u001b[0m\u001b[0;34m}\u001b[0m\u001b[0;34m\u001b[0m\u001b[0;34m\u001b[0m\u001b[0m\n\u001b[1;32m     17\u001b[0m \u001b[0;34m\u001b[0m\u001b[0m\n\u001b[0;32m---> 18\u001b[0;31m \u001b[0mrunning_times\u001b[0m\u001b[0;34m[\u001b[0m\u001b[0;34m'Word'\u001b[0m\u001b[0;34m]\u001b[0m \u001b[0;34m=\u001b[0m \u001b[0mcalc_time\u001b[0m\u001b[0;34m(\u001b[0m\u001b[0mtk\u001b[0m\u001b[0;34m.\u001b[0m\u001b[0mWordTokenizer\u001b[0m\u001b[0;34m)\u001b[0m\u001b[0;34m\u001b[0m\u001b[0;34m\u001b[0m\u001b[0m\n\u001b[0m\u001b[1;32m     19\u001b[0m \u001b[0mrunning_times\u001b[0m\u001b[0;34m[\u001b[0m\u001b[0;34m'SP'\u001b[0m\u001b[0;34m]\u001b[0m \u001b[0;34m=\u001b[0m \u001b[0mcalc_time\u001b[0m\u001b[0;34m(\u001b[0m\u001b[0mtk\u001b[0m\u001b[0;34m.\u001b[0m\u001b[0mSentencePieceTokenizer\u001b[0m\u001b[0;34m)\u001b[0m\u001b[0;34m\u001b[0m\u001b[0;34m\u001b[0m\u001b[0m\n\u001b[1;32m     20\u001b[0m \u001b[0mrunning_times\u001b[0m\u001b[0;34m[\u001b[0m\u001b[0;34m'Random'\u001b[0m\u001b[0;34m]\u001b[0m \u001b[0;34m=\u001b[0m \u001b[0mcalc_time\u001b[0m\u001b[0;34m(\u001b[0m\u001b[0mtk\u001b[0m\u001b[0;34m.\u001b[0m\u001b[0mRandomTokenizer\u001b[0m\u001b[0;34m)\u001b[0m\u001b[0;34m\u001b[0m\u001b[0;34m\u001b[0m\u001b[0m\n",
            "\u001b[0;31mNameError\u001b[0m: name 'tk' is not defined"
          ]
        }
      ],
      "source": [
        "import seaborn as sns\n",
        "import pandas as pd\n",
        "import time\n",
        "\n",
        "def calc_time(fun):\n",
        "    tokenizer = fun()\n",
        "    # morph tokenizer doesn't take arguments\n",
        "    if str(tokenizer) == 'MorphologicalTokenizer':\n",
        "        tokenizer.train()\n",
        "    else:\n",
        "        tokenizer.train('samples/data.txt')\n",
        "    start_time = time.time()\n",
        "    tokenizer.tokenize(open('samples/data.txt', 'r').read())\n",
        "    return time.time() - start_time\n",
        "\n",
        "running_times = {}\n",
        "\n",
        "running_times['Word'] = calc_time(tk.WordTokenizer)\n",
        "running_times['SP'] = calc_time(tk.SentencePieceTokenizer)\n",
        "running_times['Random'] = calc_time(tk.RandomTokenizer)\n",
        "running_times['Disjoint'] = calc_time(tk.DisjointLetterTokenizer)\n",
        "running_times['Character'] = calc_time(tk.CharacterTokenizer)\n",
        "running_times['Morph'] = calc_time(tk.MorphologicalTokenizer)\n",
        "plt = sns.barplot(data = pd.DataFrame.from_dict([running_times]))"
      ]
    },
    {
      "cell_type": "markdown",
      "metadata": {
        "id": "jqZZqAv4Hvli"
      },
      "source": [
        "### Caching"
      ]
    },
    {
      "cell_type": "markdown",
      "metadata": {
        "id": "yKiNZjqeHvli"
      },
      "source": [
        "Caching is used for speeding up the tokenization process."
      ]
    },
    {
      "cell_type": "code",
      "execution_count": null,
      "metadata": {
        "id": "I6eR6LPCHvli"
      },
      "outputs": [],
      "source": [
        "import tkseem as tk\n",
        "tokenizer = tk.MorphologicalTokenizer()\n",
        "tokenizer.train()"
      ]
    },
    {
      "cell_type": "code",
      "execution_count": null,
      "metadata": {
        "id": "VmSlXvV6Hvli",
        "outputId": "3816f0fd-f11d-4a58-bc69-bf9693545c06"
      },
      "outputs": [
        {
          "name": "stdout",
          "output_type": "stream",
          "text": [
            "8.82 s ± 277 ms per loop (mean ± std. dev. of 7 runs, 1 loop each)\n"
          ]
        }
      ],
      "source": [
        "%%timeit\n",
        "out = tokenizer.tokenize(open('samples/data.txt', 'r').read(), use_cache = False)"
      ]
    },
    {
      "cell_type": "code",
      "execution_count": null,
      "metadata": {
        "id": "PW6ZHudSHvli",
        "outputId": "5b256967-404a-43e5-c71e-ef326205fb45"
      },
      "outputs": [
        {
          "name": "stdout",
          "output_type": "stream",
          "text": [
            "7.14 s ± 296 ms per loop (mean ± std. dev. of 7 runs, 1 loop each)\n"
          ]
        }
      ],
      "source": [
        "%%timeit\n",
        "out = tokenizer.tokenize(open('samples/data.txt', 'r').read(), use_cache = True, max_cache_size = 10000)"
      ]
    }
  ],
  "metadata": {
    "kernelspec": {
      "display_name": "Python 3",
      "language": "python",
      "name": "python3"
    },
    "language_info": {
      "codemirror_mode": {
        "name": "ipython",
        "version": 3
      },
      "file_extension": ".py",
      "mimetype": "text/x-python",
      "name": "python",
      "nbconvert_exporter": "python",
      "pygments_lexer": "ipython3",
      "version": "3.8.2"
    },
    "colab": {
      "provenance": []
    }
  },
  "nbformat": 4,
  "nbformat_minor": 0
}